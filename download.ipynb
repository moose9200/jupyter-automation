{
 "cells": [
  {
   "cell_type": "code",
   "execution_count": null,
   "metadata": {
    "scrolled": true
   },
   "outputs": [],
   "source": [
    "import pandas as pd\n",
    "df1 = pd.read_csv('https://data.cityofnewyork.us/resource/vfnx-vebw.csv')\n",
    "\n",
    "df1.head()"
   ]
  },
  {
   "cell_type": "code",
   "execution_count": null,
   "metadata": {
    "scrolled": true
   },
   "outputs": [],
   "source": [
    "df1.isnull().sum(axis = 0)"
   ]
  },
  {
   "cell_type": "code",
   "execution_count": null,
   "metadata": {
    "scrolled": true
   },
   "outputs": [],
   "source": [
    "#dropping columns having more than 80% missing values\n",
    "cl = ['other_activities','other_interactions','specific_location','color_notes']\n",
    "df1.drop(cl, axis=1, inplace=True)"
   ]
  },
  {
   "cell_type": "code",
   "execution_count": null,
   "metadata": {
    "scrolled": true
   },
   "outputs": [],
   "source": [
    "import matplotlib.pyplot as plt \n",
    "categories = df1['highlight_fur_color'].value_counts().index\n",
    "counts = df1['highlight_fur_color'].value_counts().values\n",
    "plt.bar(categories, counts, width=0.3)\n",
    "\n",
    "#Plot distribution of variables having missing values\n",
    "\n",
    "print(df1['highlight_fur_color'].value_counts(),df1['age'].value_counts(),df1['primary_fur_color'].value_counts()\n",
    "     ,df1['location'].value_counts(),df1['above_ground_sighter'].value_counts())\n",
    "\n",
    "           \n",
    "\n"
   ]
  },
  {
   "cell_type": "markdown",
   "metadata": {},
   "source": [
    "# Missing value imputation based on their existing distribution of values"
   ]
  },
  {
   "cell_type": "code",
   "execution_count": null,
   "metadata": {},
   "outputs": [],
   "source": [
    "import numpy as np\n",
    "s = df1.highlight_fur_color.value_counts(normalize=True)\n",
    "missing_1 = df1['highlight_fur_color'].isnull()\n",
    "df1.loc[missing_1,'highlight_fur_color'] = np.random.choice(s.index, size=len(df1[missing_1]),p=s.values)\n",
    "print(df1['highlight_fur_color'].value_counts())\n",
    "\n",
    "\n",
    "u = df1.age.value_counts(normalize=True)\n",
    "missing_2 = df1['age'].isnull()\n",
    "df1.loc[missing_2,'age'] = np.random.choice(u.index, size=len(df1[missing_2]),p=u.values)\n",
    "print(df1['age'].value_counts())\n",
    "                                      \n",
    "                                                                "
   ]
  },
  {
   "cell_type": "markdown",
   "metadata": {},
   "source": [
    "# Omitting nulls which are insignificant in number"
   ]
  },
  {
   "cell_type": "code",
   "execution_count": null,
   "metadata": {},
   "outputs": [],
   "source": [
    "df1 = df1.dropna() "
   ]
  },
  {
   "cell_type": "code",
   "execution_count": null,
   "metadata": {
    "scrolled": true
   },
   "outputs": [],
   "source": [
    "df1.isnull().sum(axis = 0)"
   ]
  },
  {
   "cell_type": "code",
   "execution_count": null,
   "metadata": {},
   "outputs": [],
   "source": [
    "df2 =pd.read_csv('https://data.cityofnewyork.us/resource/7ym2-wayt.csv')\n",
    "df2"
   ]
  },
  {
   "cell_type": "code",
   "execution_count": null,
   "metadata": {},
   "outputs": [],
   "source": [
    "df2.isnull().sum(axis = 0)"
   ]
  },
  {
   "cell_type": "code",
   "execution_count": null,
   "metadata": {},
   "outputs": [],
   "source": [
    "import matplotlib.pyplot as plt \n",
    "categories = df2['boro'].value_counts().index\n",
    "counts = df2['boro'].value_counts().values\n",
    "plt.bar(categories, counts, width=0.3)\n",
    "print(df2['boro'].value_counts())"
   ]
  },
  {
   "cell_type": "code",
   "execution_count": null,
   "metadata": {},
   "outputs": [],
   "source": [
    "print(df2['segmentid'].value_counts(),df2['yr'].value_counts(),df2['segmentid'].value_counts(),df2['wktgeom'].value_counts()\n",
    "     ,df2['street'].value_counts(),df2['fromst'].value_counts(),df2['tost'].value_counts(),df2['direction'].value_counts(),\n",
    "df2['m'].value_counts(),df2['yr'].value_counts())"
   ]
  },
  {
   "cell_type": "markdown",
   "metadata": {},
   "source": [
    "# Most of the variables are having just one value "
   ]
  },
  {
   "cell_type": "code",
   "execution_count": null,
   "metadata": {},
   "outputs": [],
   "source": []
  }
 ],
 "metadata": {
  "kernelspec": {
   "display_name": "Python 3",
   "language": "python",
   "name": "python3"
  },
  "language_info": {
   "codemirror_mode": {
    "name": "ipython",
    "version": 3
   },
   "file_extension": ".py",
   "mimetype": "text/x-python",
   "name": "python",
   "nbconvert_exporter": "python",
   "pygments_lexer": "ipython3",
   "version": "3.8.5"
  }
 },
 "nbformat": 4,
 "nbformat_minor": 4
}
